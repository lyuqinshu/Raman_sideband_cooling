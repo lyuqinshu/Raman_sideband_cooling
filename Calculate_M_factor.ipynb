{
 "cells": [
  {
   "cell_type": "markdown",
   "id": "230007b6",
   "metadata": {},
   "source": [
    "### Calculate and save M_facor"
   ]
  },
  {
   "cell_type": "code",
   "execution_count": 17,
   "id": "7fe0c736",
   "metadata": {},
   "outputs": [],
   "source": [
    "import numpy as np\n",
    "import scipy.constants as cts\n",
    "import scipy.stats as stats\n",
    "import gc\n",
    "import matplotlib.pyplot as plt\n",
    "from tqdm import tqdm\n",
    "import random\n",
    "from scipy.special import hermite, factorial\n",
    "import RSC_functions\n",
    "from pathos.multiprocessing import Pool"
   ]
  },
  {
   "cell_type": "code",
   "execution_count": 18,
   "id": "8fcb3cf7",
   "metadata": {},
   "outputs": [],
   "source": [
    "import numpy as np\n",
    "from scipy.special import factorial, eval_genlaguerre\n",
    "from tqdm import tqdm\n",
    "from pathos.multiprocessing import Pool, cpu_count\n",
    "\n",
    "MAX_N = 40\n",
    "LD_MIN = 0.0\n",
    "LD_MAX = 2.5\n",
    "LD_RES = 0.0001\n",
    "LD_GRID = np.arange(LD_MIN, LD_MAX + LD_RES, LD_RES)  # 0.0001 steps\n",
    "LD_LEN = len(LD_GRID)\n",
    "\n",
    "M_FACTOR_TABLE = np.zeros((MAX_N + 1, MAX_N + 1, LD_LEN), dtype=np.float64)\n",
    "\n",
    "\n",
    "def _single_M_factor_task(args):\n",
    "    \"\"\"Worker function: computes M_factor for a given (n_i, n_f, ld_index).\"\"\"\n",
    "    n_i, n_f, ld_index, ld = args\n",
    "    from RSC_functions import M_factor  # Import inside worker to avoid pickling issues\n",
    "    val = M_factor(n_i, n_f, ld)\n",
    "    return (n_i, n_f, ld_index, val)\n",
    "\n",
    "\n",
    "def precompute_M_factors_parallel(workers=None):\n",
    "    if workers is None:\n",
    "        workers = cpu_count()\n",
    "\n",
    "    print(f\"Using {workers} workers to compute M_factor table...\")\n",
    "\n",
    "    # Prepare task list\n",
    "    tasks = [\n",
    "        (n_i, n_f, ld_index, ld)\n",
    "        for ld_index, ld in enumerate(LD_GRID)\n",
    "        for n_i in range(MAX_N + 1)\n",
    "        for n_f in range(MAX_N + 1)\n",
    "    ]\n",
    "\n",
    "    # Run in parallel\n",
    "    with Pool(workers) as pool:\n",
    "        results = list(tqdm(pool.imap(_single_M_factor_task, tasks), total=len(tasks), desc=\"Computing M_factors\"))\n",
    "\n",
    "    # Fill in the table\n",
    "    for n_i, n_f, ld_index, val in results:\n",
    "        M_FACTOR_TABLE[n_i, n_f, ld_index] = val\n",
    "\n",
    "    print(\"M_factor precomputation complete.\")\n"
   ]
  },
  {
   "cell_type": "code",
   "execution_count": 19,
   "id": "811f7dd4",
   "metadata": {},
   "outputs": [
    {
     "name": "stdout",
     "output_type": "stream",
     "text": [
      "Using 8 workers to compute M_factor table...\n"
     ]
    },
    {
     "name": "stderr",
     "output_type": "stream",
     "text": [
      "Computing M_factors: 100%|██████████| 42026681/42026681 [3:05:48<00:00, 3769.71it/s]  \n"
     ]
    },
    {
     "name": "stdout",
     "output_type": "stream",
     "text": [
      "M_factor precomputation complete.\n"
     ]
    }
   ],
   "source": [
    "precompute_M_factors_parallel()\n",
    "np.save(\"M_FACTOR_TABLE.npy\", M_FACTOR_TABLE)"
   ]
  },
  {
   "cell_type": "code",
   "execution_count": 20,
   "id": "11ce02ce",
   "metadata": {},
   "outputs": [
    {
     "data": {
      "text/plain": [
       "[<matplotlib.lines.Line2D at 0x7fb1bb395190>]"
      ]
     },
     "execution_count": 20,
     "metadata": {},
     "output_type": "execute_result"
    },
    {
     "data": {
      "image/png": "[encoded data removed]",
      "text/plain": [
       "<Figure size 432x288 with 1 Axes>"
      ]
     },
     "metadata": {
      "needs_background": "light"
     },
     "output_type": "display_data"
    }
   ],
   "source": [
    "M_FACTOR_TABLE = np.load(\"M_FACTOR_TABLE.npy\")\n",
    "plt.figure()\n",
    "y_plot = [M_FACTOR_TABLE[0, 0, ld] for ld in np.arange(LD_LEN)]\n",
    "plt.plot(LD_GRID, y_plot)"
   ]
  },
  {
   "cell_type": "code",
   "execution_count": null,
   "id": "e5268f45",
   "metadata": {},
   "outputs": [],
   "source": []
  }
 ],
 "metadata": {
  "kernelspec": {
   "display_name": "base",
   "language": "python",
   "name": "python3"
  },
  "language_info": {
   "codemirror_mode": {
    "name": "ipython",
    "version": 3
   },
   "file_extension": ".py",
   "mimetype": "text/x-python",
   "name": "python",
   "nbconvert_exporter": "python",
   "pygments_lexer": "ipython3",
   "version": "3.9.12"
  }
 },
 "nbformat": 4,
 "nbformat_minor": 5
}
